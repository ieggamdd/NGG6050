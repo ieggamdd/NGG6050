{
 "cells": [
  {
   "cell_type": "code",
   "execution_count": 12,
   "id": "3725ebf6",
   "metadata": {},
   "outputs": [],
   "source": [
    "import numpy as np\n",
    "import pandas as pd\n",
    "from statsmodels.stats.power import TTestPower\n",
    "from scipy.stats import ttest_rel\n",
    "import matplotlib.pyplot as plt"
   ]
  },
  {
   "cell_type": "code",
   "execution_count": 3,
   "id": "5db87393",
   "metadata": {},
   "outputs": [],
   "source": [
    "# 24 hr bW changes\n",
    "\n",
    "# load data for BW\n",
    "data = {\n",
    "    \"Group\": [\"veh\", \"veh\", \"veh\", \"veh\", \"veh\", \"veh\", \"veh\", \"veh\", \"veh\", \"veh\", \"veh\",\n",
    "              \"cgrp\", \"cgrp\", \"cgrp\", \"cgrp\", \"cgrp\", \"cgrp\", \"cgrp\", \"cgrp\", \"cgrp\", \"cgrp\", \"cgrp\"],\n",
    "    \"Value\": [0.7, -2, -0.2, -5.6, -2.7, 0.2, 1.7, 10.9, 4.9, -2.2, 4.9,\n",
    "              -3.2, -17.5, 6.5, -6.9, -26.4, 0.1, -6.3, 1.3, -1.1, -5.7, -11.3]\n",
    "}\n",
    "df = pd.DataFrame(data)\n",
    "\n",
    "# Reshape data for paired t-test\n",
    "veh_values = df[df[\"Group\"] == \"veh\"][\"Value\"].values\n",
    "cgrp_values = df[df[\"Group\"] == \"cgrp\"][\"Value\"].values\n",
    "diff_values = veh_values - cgrp_values"
   ]
  },
  {
   "cell_type": "code",
   "execution_count": 4,
   "id": "642ef814",
   "metadata": {},
   "outputs": [
    {
     "data": {
      "text/plain": [
       "0.8613435171305704"
      ]
     },
     "execution_count": 4,
     "metadata": {},
     "output_type": "execute_result"
    }
   ],
   "source": [
    "cohens_d = np.mean(diff_values)/np.std(diff_values, ddof=1)\n",
    "cohens_d\n"
   ]
  },
  {
   "cell_type": "code",
   "execution_count": 6,
   "id": "b8d301e0",
   "metadata": {},
   "outputs": [
    {
     "name": "stdout",
     "output_type": "stream",
     "text": [
      "Required pairs: 13.0\n"
     ]
    }
   ],
   "source": [
    "# Parameters for the power analysis\n",
    "effect_size = cohens_d  # Cohen's d, can adjust based on expected effect size\n",
    "alpha = 0.05  # Significance level\n",
    "power = 0.8  # Desired power (1 - beta)\n",
    "\n",
    "power_analysis = TTestPower()\n",
    "# Calculate the required sample size\n",
    "required_sample_size = power_analysis.solve_power(effect_size=effect_size, alpha=alpha, power=power, alternative = 'two-sided')\n",
    "# Print the result\n",
    "print(f\"Required pairs: {np.ceil(required_sample_size)}\")\n"
   ]
  },
  {
   "cell_type": "code",
   "execution_count": 9,
   "id": "8ded9865",
   "metadata": {},
   "outputs": [
    {
     "data": {
      "image/png": "[encoded data removed]",
      "text/plain": [
       "<Figure size 576x432 with 1 Axes>"
      ]
     },
     "metadata": {
      "needs_background": "light"
     },
     "output_type": "display_data"
    }
   ],
   "source": [
    "# Range of sample sizes for plotting\n",
    "sample_sizes = np.arange(5, 30, 1)\n",
    "powers = power_analysis.power(effect_size=cohens_d, nobs=sample_sizes, alpha=alpha, alternative='two-sided')\n",
    "\n",
    "# Plotting\n",
    "plt.figure(figsize=(8, 6))\n",
    "plt.plot(sample_sizes, powers, marker='o')\n",
    "plt.axhline(y=power, color='r', linestyle='--', label='Desired Power (0.8)')\n",
    "plt.axvline(x=required_sample_size, color='g', linestyle='--', label=f'Required Samples ({int(np.ceil(required_sample_size))})')\n",
    "plt.title('Power Analysis: Sample Size vs Power for Changes in BW')\n",
    "plt.xlabel('Number of Pairs')\n",
    "plt.ylabel('Power')\n",
    "plt.grid(True)\n",
    "plt.legend()\n",
    "plt.tight_layout()\n",
    "plt.show()\n",
    "\n"
   ]
  },
  {
   "cell_type": "code",
   "execution_count": 13,
   "id": "0d06cb95",
   "metadata": {},
   "outputs": [
    {
     "data": {
      "text/plain": [
       "(2.8567532619271607, 0.017051535104439786)"
      ]
     },
     "execution_count": 13,
     "metadata": {},
     "output_type": "execute_result"
    }
   ],
   "source": [
    "# Perform paired t-test\n",
    "t_stat, p_value = ttest_rel(veh_values, cgrp_values)\n",
    "t_stat, p_value \n",
    "# confirming getting the same result as prism "
   ]
  },
  {
   "cell_type": "code",
   "execution_count": 14,
   "id": "6d4b2df1",
   "metadata": {},
   "outputs": [],
   "source": [
    "#load dataset for cumulative intake \n",
    "data = {\n",
    "    \"Animal ID\": [304, 307, 308, 312, 314, 315, 317, 319, 321, 322, 304, 307, 308, 312, 314, 315, 317, 319, 321, 322],\n",
    "    \"1hr\": [0.55, 2.08, 0, 0, 2.7, 1.04, 8.16, 3.1, 2.01, 0, 0, 1.13, 0, 1.26, 0, 0, 0, 3.19, 0.17, 0],\n",
    "    \"3hr\": [4.97, 5.86, 6.26, 8.48, 8.22, 9.72, 12.84, 11.71, 9.61, 6.01, 2.44, 8.03, 4.35, 3.36, 3.05, 0, 12.64, 8.55, 1.54, 4.7],\n",
    "    \"6hr\": [10.6, 10.17, 12.88, 10.46, 12.3, 12.41, 17.42, 17.39, 14.72, 9.54, 8.88, 8.14, 10.45, 7.62, 10.4, 3.57, 12.64, 11.9, 10.25, 5.65],\n",
    "    \"24hr\": [25.54, 22.94, 26.06, 27.64, 29.88, 31.69, 36.48, 30.91, 29.9, 29.26, 20.37, 23.6, 26.67, 22.09, 31.06, 11.27, 31.16, 30.75, 28.37, 18.44],\n",
    "    \"Treatment\": [\"veh\", \"veh\", \"veh\", \"veh\", \"veh\", \"veh\", \"veh\", \"veh\", \"veh\", \"veh\", \n",
    "                  \"cgrp\", \"cgrp\", \"cgrp\", \"cgrp\", \"cgrp\", \"cgrp\", \"cgrp\", \"cgrp\", \"cgrp\", \"cgrp\"]\n",
    "}\n",
    "\n",
    "df = pd.DataFrame(data)"
   ]
  },
  {
   "cell_type": "code",
   "execution_count": 34,
   "id": "fa9448b3",
   "metadata": {},
   "outputs": [
    {
     "data": {
      "text/html": [
       "<div>\n",
       "<style scoped>\n",
       "    .dataframe tbody tr th:only-of-type {\n",
       "        vertical-align: middle;\n",
       "    }\n",
       "\n",
       "    .dataframe tbody tr th {\n",
       "        vertical-align: top;\n",
       "    }\n",
       "\n",
       "    .dataframe thead th {\n",
       "        text-align: right;\n",
       "    }\n",
       "</style>\n",
       "<table border=\"1\" class=\"dataframe\">\n",
       "  <thead>\n",
       "    <tr style=\"text-align: right;\">\n",
       "      <th></th>\n",
       "      <th>Animal ID</th>\n",
       "      <th>1hr_cgrp</th>\n",
       "      <th>1hr_veh</th>\n",
       "      <th>3hr_cgrp</th>\n",
       "      <th>3hr_veh</th>\n",
       "      <th>6hr_cgrp</th>\n",
       "      <th>6hr_veh</th>\n",
       "      <th>24hr_cgrp</th>\n",
       "      <th>24hr_veh</th>\n",
       "    </tr>\n",
       "  </thead>\n",
       "  <tbody>\n",
       "    <tr>\n",
       "      <th>0</th>\n",
       "      <td>304</td>\n",
       "      <td>0.00</td>\n",
       "      <td>0.55</td>\n",
       "      <td>2.44</td>\n",
       "      <td>4.97</td>\n",
       "      <td>8.88</td>\n",
       "      <td>10.60</td>\n",
       "      <td>20.37</td>\n",
       "      <td>25.54</td>\n",
       "    </tr>\n",
       "    <tr>\n",
       "      <th>1</th>\n",
       "      <td>307</td>\n",
       "      <td>1.13</td>\n",
       "      <td>2.08</td>\n",
       "      <td>8.03</td>\n",
       "      <td>5.86</td>\n",
       "      <td>8.14</td>\n",
       "      <td>10.17</td>\n",
       "      <td>23.60</td>\n",
       "      <td>22.94</td>\n",
       "    </tr>\n",
       "  </tbody>\n",
       "</table>\n",
       "</div>"
      ],
      "text/plain": [
       "   Animal ID  1hr_cgrp  1hr_veh  3hr_cgrp  3hr_veh  6hr_cgrp  6hr_veh  \\\n",
       "0        304      0.00     0.55      2.44     4.97      8.88    10.60   \n",
       "1        307      1.13     2.08      8.03     5.86      8.14    10.17   \n",
       "\n",
       "   24hr_cgrp  24hr_veh  \n",
       "0      20.37     25.54  \n",
       "1      23.60     22.94  "
      ]
     },
     "execution_count": 34,
     "metadata": {},
     "output_type": "execute_result"
    }
   ],
   "source": [
    "# Reshape the dataframe correctly for repeated measures ANOVA\n",
    "# Separate out the treatments for clarity\n",
    "df_reshaped = df.pivot(index=\"Animal ID\", columns=\"Treatment\", values=[\"1hr\", \"3hr\", \"6hr\", \"24hr\"])\n",
    "\n",
    "# Flatten the multi-level columns for easier access\n",
    "df_reshaped.columns = ['_'.join(col).strip() for col in df_reshaped.columns.values]\n",
    "df_reshaped.reset_index(inplace=True)\n",
    "\n",
    "# Display the reshaped dataframe to ensure correctness\n",
    "df_reshaped.head(2)\n"
   ]
  },
  {
   "cell_type": "code",
   "execution_count": 35,
   "id": "6dc188c1",
   "metadata": {},
   "outputs": [
    {
     "data": {
      "text/plain": [
       "{'Partial Eta Squared (Treatment)': 0.1971758349963805,\n",
       " 'Partial Eta Squared (Time)': 0.8876354493833795,\n",
       " 'Partial Eta Squared (Interaction)': 0.030852050963634758,\n",
       " \"Cohen's f (Treatment)\": 0.49558325771477496,\n",
       " \"Cohen's f (Time)\": 2.8106234118574682,\n",
       " \"Cohen's f (Interaction)\": 0.17842141510083143}"
      ]
     },
     "execution_count": 35,
     "metadata": {},
     "output_type": "execute_result"
    }
   ],
   "source": [
    "# Overall mean\n",
    "grand_mean = df_reshaped[\n",
    "    [f\"{time}_{group}\" for time in [\"1hr\", \"3hr\", \"6hr\", \"24hr\"] for group in [\"cgrp\", \"veh\"]]\n",
    "].stack().mean()\n",
    "\n",
    "# Main Effect of Treatment (cgrp vs veh)\n",
    "treatment_means = {\n",
    "    \"veh\": df_reshaped[[f\"{time}_veh\" for time in [\"1hr\", \"3hr\", \"6hr\", \"24hr\"]]].stack().mean(),\n",
    "    \"cgrp\": df_reshaped[[f\"{time}_cgrp\" for time in [\"1hr\", \"3hr\", \"6hr\", \"24hr\"]]].stack().mean(),\n",
    "}\n",
    "SS_treatment = sum(\n",
    "    [\n",
    "        df_reshaped.shape[0] * len([\"1hr\", \"3hr\", \"6hr\", \"24hr\"]) * ((treatment_means[group] - grand_mean) ** 2)\n",
    "        for group in [\"veh\", \"cgrp\"]\n",
    "    ]\n",
    ")\n",
    "\n",
    "# Main Effect of Time (1hr, 3hr, 6hr, 24hr)\n",
    "time_means = {\n",
    "    time: df_reshaped[[f\"{time}_veh\", f\"{time}_cgrp\"]].stack().mean() for time in [\"1hr\", \"3hr\", \"6hr\", \"24hr\"]\n",
    "}\n",
    "SS_time = sum(\n",
    "    [\n",
    "        df_reshaped.shape[0] * 2 * ((time_means[time] - grand_mean) ** 2) for time in [\"1hr\", \"3hr\", \"6hr\", \"24hr\"]\n",
    "    ]\n",
    ")\n",
    "\n",
    "# Interaction Effect (Treatment × Time)\n",
    "interaction_means = {\n",
    "    (time, group): df_reshaped[f\"{time}_{group}\"].mean()\n",
    "    for time in [\"1hr\", \"3hr\", \"6hr\", \"24hr\"]\n",
    "    for group in [\"veh\", \"cgrp\"]\n",
    "}\n",
    "SS_interaction = sum(\n",
    "    [\n",
    "        df_reshaped.shape[0]\n",
    "        * ((interaction_means[(time, group)] - treatment_means[group] - time_means[time] + grand_mean) ** 2)\n",
    "        for time in [\"1hr\", \"3hr\", \"6hr\", \"24hr\"]\n",
    "        for group in [\"veh\", \"cgrp\"]\n",
    "    ]\n",
    ")\n",
    "\n",
    "# Residual/Error SS\n",
    "SS_error = sum(\n",
    "    [\n",
    "        ((df_reshaped[f\"{time}_{group}\"] - interaction_means[(time, group)]) ** 2).sum()\n",
    "        for time in [\"1hr\", \"3hr\", \"6hr\", \"24hr\"]\n",
    "        for group in [\"veh\", \"cgrp\"]\n",
    "    ]\n",
    ")\n",
    "\n",
    "# Partial eta squared and Cohen's f\n",
    "eta_squared_treatment = SS_treatment / (SS_treatment + SS_error)\n",
    "eta_squared_time = SS_time / (SS_time + SS_error)\n",
    "eta_squared_interaction = SS_interaction / (SS_interaction + SS_error)\n",
    "\n",
    "f_treatment = np.sqrt(eta_squared_treatment / (1 - eta_squared_treatment))\n",
    "f_time = np.sqrt(eta_squared_time / (1 - eta_squared_time))\n",
    "f_interaction = np.sqrt(eta_squared_interaction / (1 - eta_squared_interaction))\n",
    "\n",
    "# Display results\n",
    "{\n",
    "    \"Partial Eta Squared (Treatment)\": eta_squared_treatment,\n",
    "    \"Partial Eta Squared (Time)\": eta_squared_time,\n",
    "    \"Partial Eta Squared (Interaction)\": eta_squared_interaction,\n",
    "    \"Cohen's f (Treatment)\": f_treatment,\n",
    "    \"Cohen's f (Time)\": f_time,\n",
    "    \"Cohen's f (Interaction)\": f_interaction,\n",
    "}\n"
   ]
  },
  {
   "cell_type": "code",
   "execution_count": 62,
   "id": "ea176ec2",
   "metadata": {},
   "outputs": [
    {
     "name": "stdout",
     "output_type": "stream",
     "text": [
      "8.357340716593033\n"
     ]
    }
   ],
   "source": [
    "from statsmodels.stats.power import FTestAnovaPower\n",
    "\n",
    "# Parameters for two-way repeated measures ANOVA\n",
    "effect_size = 0.5 # cohen's f for treatment \n",
    "#within_subject_correlation = 0.6  # Adjust for sphericity violations\n",
    "#adjusted_effect_size = effect_size * np.sqrt(1 - within_subject_correlation)\n",
    "\n",
    "\n",
    "# Number of measurements (time points) and groups (e.g., treatments)\n",
    "num_measurements = 4  # e.g., 1hr, 3hr, 6hr, 24hr\n",
    "num_groups = 2  # e.g., \"veh\", \"cgrp\"\n",
    "\n",
    "# Adjust degrees of freedom (repeated measures design)\n",
    "df_between = num_groups - 1\n",
    "df_within = (num_measurements - 1) * (num_groups - 1)\n",
    "\n",
    "# Range of sample sizes for exploration\n",
    "sample_sizes = np.arange(5, 30, 1)  # Sample sizes from 5 to 50\n",
    "power_analysis_f = FTestAnovaPower()\n",
    "\n",
    "required_sample_size_f = power_analysis_f.solve_power(effect_size = effect_size, alpha = 0.05, power = 0.8)/num_measurements\n",
    "print(required_sample_size_f)\n"
   ]
  },
  {
   "cell_type": "code",
   "execution_count": 63,
   "id": "80a75b08",
   "metadata": {},
   "outputs": [
    {
     "data": {
      "text/plain": [
       "0.31622776601683794"
      ]
     },
     "execution_count": 63,
     "metadata": {},
     "output_type": "execute_result"
    }
   ],
   "source": [
    "adjusted_effect_size\n"
   ]
  },
  {
   "cell_type": "code",
   "execution_count": 65,
   "id": "a9289d13",
   "metadata": {},
   "outputs": [
    {
     "data": {
      "image/png": "[encoded data removed]",
      "text/plain": [
       "<Figure size 576x432 with 1 Axes>"
      ]
     },
     "metadata": {
      "needs_background": "light"
     },
     "output_type": "display_data"
    }
   ],
   "source": [
    "power_values_f = [\n",
    "    power_analysis.solve_power(\n",
    "        effect_size=effect_size,\n",
    "        alpha=0.05,\n",
    "        power=None,\n",
    "        nobs=n * num_measurements,  # Total observations\n",
    "    )\n",
    "    for n in sample_sizes\n",
    "]\n",
    "\n",
    "# Plotting\n",
    "plt.figure(figsize=(8, 6))\n",
    "plt.plot(sample_sizes, power_values_f, label=\"Power Analysis\", marker=\"o\")\n",
    "plt.axhline(0.8, color=\"red\", linestyle=\"--\", label=\"Target Power (0.8)\")\n",
    "plt.axvline(\n",
    "    x=required_sample_size_f,\n",
    "    color=\"green\",\n",
    "    linestyle=\"--\",\n",
    "    label=f\"Required Samples ({int(np.ceil(required_sample_size_f))})\",\n",
    ")\n",
    "plt.xlabel(\"Number of Subjects per Group\")\n",
    "plt.ylabel(\"Power\")\n",
    "plt.title(\"Power Analysis for Two-Way Repeated Measures ANOVA\")\n",
    "plt.legend()\n",
    "plt.grid(True)\n",
    "plt.tight_layout()\n",
    "plt.show()"
   ]
  },
  {
   "cell_type": "code",
   "execution_count": null,
   "id": "18eb1cb8",
   "metadata": {},
   "outputs": [],
   "source": []
  }
 ],
 "metadata": {
  "kernelspec": {
   "display_name": "Python 3 (ipykernel)",
   "language": "python",
   "name": "python3"
  },
  "language_info": {
   "codemirror_mode": {
    "name": "ipython",
    "version": 3
   },
   "file_extension": ".py",
   "mimetype": "text/x-python",
   "name": "python",
   "nbconvert_exporter": "python",
   "pygments_lexer": "ipython3",
   "version": "3.9.12"
  }
 },
 "nbformat": 4,
 "nbformat_minor": 5
}
